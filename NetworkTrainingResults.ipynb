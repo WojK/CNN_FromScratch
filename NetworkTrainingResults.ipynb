{
 "cells": [
  {
   "cell_type": "code",
   "execution_count": 14,
   "id": "2348e148-e59a-4a49-a681-26c51d722edf",
   "metadata": {},
   "outputs": [
    {
     "data": {
      "text/plain": [
       "train_model_MNIST (generic function with 1 method)"
      ]
     },
     "execution_count": 14,
     "metadata": {},
     "output_type": "execute_result"
    }
   ],
   "source": [
    "include(\"train_cnn.jl\")"
   ]
  },
  {
   "cell_type": "code",
   "execution_count": 2,
   "id": "4705faac-ac1e-4f2b-9b94-b19684d2b429",
   "metadata": {},
   "outputs": [
    {
     "name": "stdout",
     "output_type": "stream",
     "text": [
      "Epoch 1 :\n",
      " 80.964064 seconds (1.40 G allocations: 213.876 GiB, 19.54% gc time, 4.81% compilation time)\n",
      "Accurancy: 0.8335\n",
      "Epoch 2 :\n",
      " 74.148205 seconds (1.38 G allocations: 213.123 GiB, 19.49% gc time)\n",
      "Accurancy: 0.8898\n",
      "Epoch 3 :\n",
      " 73.442552 seconds (1.38 G allocations: 213.123 GiB, 18.51% gc time)\n",
      "Accurancy: 0.8997\n"
     ]
    }
   ],
   "source": [
    "train_model_MNIST()"
   ]
  },
  {
   "cell_type": "code",
   "execution_count": 8,
   "id": "3bf017a8-e21d-4a22-a45e-18a2a571fca5",
   "metadata": {},
   "outputs": [
    {
     "name": "stdout",
     "output_type": "stream",
     "text": [
      "Epoch 1 :\n",
      " 74.173002 seconds (1.39 G allocations: 213.218 GiB, 12.87% gc time, 1.46% compilation time)\n",
      "Accurancy: 0.9108\n",
      "Epoch 2 :\n",
      " 68.786780 seconds (1.38 G allocations: 213.123 GiB, 11.79% gc time)\n",
      "Accurancy: 0.9241\n",
      "Epoch 3 :\n",
      " 68.360003 seconds (1.38 G allocations: 213.123 GiB, 11.58% gc time)\n",
      "Accurancy: 0.9334\n"
     ]
    }
   ],
   "source": [
    "train_model_MNIST()"
   ]
  },
  {
   "cell_type": "code",
   "execution_count": 2,
   "id": "9b9692b1-a48c-4fac-bfb4-a1748c5841eb",
   "metadata": {},
   "outputs": [
    {
     "name": "stdout",
     "output_type": "stream",
     "text": [
      "Epoch 1 :\n",
      " 76.064780 seconds (1.40 G allocations: 213.876 GiB, 18.73% gc time, 4.76% compilation time)\n",
      "Accurancy: 0.8952\n",
      "Epoch 2 :\n",
      " 72.637494 seconds (1.38 G allocations: 213.123 GiB, 19.29% gc time)\n",
      "Accurancy: 0.9137\n",
      "Epoch 3 :\n",
      " 71.478088 seconds (1.38 G allocations: 213.123 GiB, 18.07% gc time)\n",
      "Accurancy: 0.9217\n"
     ]
    }
   ],
   "source": [
    "train_model_MNIST()"
   ]
  },
  {
   "cell_type": "markdown",
   "id": "4be3dbac-3e8b-4562-93f7-b7b2dd3d691b",
   "metadata": {},
   "source": [
    "### After changing conv"
   ]
  },
  {
   "cell_type": "code",
   "execution_count": 5,
   "id": "a302f7bb-16c6-440e-b354-fb511cad8cb5",
   "metadata": {},
   "outputs": [
    {
     "name": "stdout",
     "output_type": "stream",
     "text": [
      "Epoch 1 :\n",
      " 62.855577 seconds (1.31 G allocations: 192.123 GiB, 12.37% gc time, 1.75% compilation time)\n",
      "Accurancy: 0.7172\n",
      "Epoch 2 :\n",
      " 60.289255 seconds (1.31 G allocations: 192.018 GiB, 10.53% gc time)\n",
      "Accurancy: 0.8124\n",
      "Epoch 3 :\n",
      " 60.470188 seconds (1.31 G allocations: 192.018 GiB, 10.57% gc time)\n",
      "Accurancy: 0.8737\n"
     ]
    }
   ],
   "source": [
    "train_model_MNIST()"
   ]
  },
  {
   "cell_type": "code",
   "execution_count": 13,
   "id": "270c7ad4-1e41-41b2-be15-8549fc6af6ef",
   "metadata": {},
   "outputs": [
    {
     "name": "stdout",
     "output_type": "stream",
     "text": [
      "Epoch 1 :\n",
      " 64.399445 seconds (1.31 G allocations: 192.123 GiB, 11.12% gc time, 1.77% compilation time)\n",
      "Accurancy: 0.8894\n",
      "Epoch 2 :\n",
      " 63.295080 seconds (1.31 G allocations: 192.018 GiB, 11.20% gc time)\n",
      "Accurancy: 0.9122\n",
      "Epoch 3 :\n",
      " 63.449099 seconds (1.31 G allocations: 192.018 GiB, 11.33% gc time)\n",
      "Accurancy: 0.9225\n"
     ]
    }
   ],
   "source": [
    "train_model_MNIST()"
   ]
  },
  {
   "cell_type": "code",
   "execution_count": null,
   "id": "8d765312-78ed-423f-b96f-5723ebe9dcaf",
   "metadata": {},
   "outputs": [],
   "source": []
  }
 ],
 "metadata": {
  "kernelspec": {
   "display_name": "Julia 1.10.2",
   "language": "julia",
   "name": "julia-1.10"
  },
  "language_info": {
   "file_extension": ".jl",
   "mimetype": "application/julia",
   "name": "julia",
   "version": "1.10.2"
  }
 },
 "nbformat": 4,
 "nbformat_minor": 5
}
